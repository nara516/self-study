{
 "cells": [
  {
   "cell_type": "markdown",
   "metadata": {},
   "source": [
    "# Basic Image Manipulations in Python and OpenCV: Resizing (scaling), Rotating, and Cropping"
   ]
  },
  {
   "cell_type": "code",
   "execution_count": 1,
   "metadata": {},
   "outputs": [],
   "source": [
    "# import the necessary packages\n",
    "import cv2\n",
    "\n",
    "# load the image and show it\n",
    "image = cv2.imread(\"jurassic-park-tour-jeep.jpg\")\n",
    "#cv2.imshow(\"original\", image)       #제목, 띄울 사진\n",
    "#cv2.waitKey(0)  #0이면 화면에 계속 띄움"
   ]
  },
  {
   "cell_type": "code",
   "execution_count": 2,
   "metadata": {},
   "outputs": [
    {
     "data": {
      "text/plain": [
       "(388, 647, 3)"
      ]
     },
     "execution_count": 2,
     "metadata": {},
     "output_type": "execute_result"
    }
   ],
   "source": [
    "# print the dimensions of the image\n",
    "image.shape     #row, col, channels(RGB components)"
   ]
  },
  {
   "cell_type": "code",
   "execution_count": 3,
   "metadata": {},
   "outputs": [
    {
     "data": {
      "text/plain": [
       "(59, 100, 3)"
      ]
     },
     "execution_count": 3,
     "metadata": {},
     "output_type": "execute_result"
    }
   ],
   "source": [
    "# we need to keep in mind aspect ratio so the image does\n",
    "# not look skewed or distorted -- therefore, we calculate\n",
    "# the ratio of the new image to the old image\n",
    "r = 100.0 / image.shape[1]\n",
    "dim = (100, int(image.shape[0] * r))\n",
    "# perform the actual resizing of the image and show it\n",
    "resized = cv2.resize(image, dim, interpolation = cv2.INTER_AREA)\n",
    "#cv2.imshow(\"resized\", resized)\n",
    "#cv2.waitKey(1)\n",
    "\n",
    "resized.shape"
   ]
  },
  {
   "cell_type": "code",
   "execution_count": 4,
   "metadata": {},
   "outputs": [],
   "source": [
    "# grab the dimensions of the image and calculate the center\n",
    "# of the image\n",
    "(h, w) = image.shape[:2]\n",
    "center = (w / 2, h / 2)\n",
    "\n",
    "# rotate the image by 180 degrees\n",
    "M = cv2.getRotationMatrix2D(center, 180, 0.5)\n",
    "rotated = cv2.warpAffine(image, M, (w, h))\n",
    "#cv2.imshow(\"rotated\", rotated)\n",
    "#cv2.waitKey(0)"
   ]
  },
  {
   "cell_type": "code",
   "execution_count": 6,
   "metadata": {},
   "outputs": [],
   "source": [
    "# crop the image using array slices -- it's a NumPy array\n",
    "# after all!\n",
    "cropped = image[100:, 200:]\n",
    "#cv2.imshow(\"cropped\", cropped)\n",
    "#cv2.waitKey(0)"
   ]
  },
  {
   "cell_type": "code",
   "execution_count": 7,
   "metadata": {},
   "outputs": [
    {
     "data": {
      "text/plain": [
       "True"
      ]
     },
     "execution_count": 7,
     "metadata": {},
     "output_type": "execute_result"
    }
   ],
   "source": [
    "# write the cropped image to disk in PNG format\n",
    "cv2.imwrite(\"thumbnail.png\", cropped)"
   ]
  },
  {
   "cell_type": "code",
   "execution_count": null,
   "metadata": {},
   "outputs": [],
   "source": []
  }
 ],
 "metadata": {
  "kernelspec": {
   "display_name": "Python 3",
   "language": "python",
   "name": "python3"
  },
  "language_info": {
   "codemirror_mode": {
    "name": "ipython",
    "version": 3
   },
   "file_extension": ".py",
   "mimetype": "text/x-python",
   "name": "python",
   "nbconvert_exporter": "python",
   "pygments_lexer": "ipython3",
   "version": "3.8.5"
  }
 },
 "nbformat": 4,
 "nbformat_minor": 4
}
