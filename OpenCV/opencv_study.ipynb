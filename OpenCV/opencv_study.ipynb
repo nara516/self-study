{
 "cells": [
  {
   "cell_type": "code",
   "execution_count": 1,
   "metadata": {},
   "outputs": [
    {
     "name": "stdout",
     "output_type": "stream",
     "text": [
      "4.5.1\n"
     ]
    }
   ],
   "source": [
    "import cv2\n",
    "import numpy as np\n",
    "print(cv2.__version__)"
   ]
  },
  {
   "cell_type": "code",
   "execution_count": 13,
   "metadata": {},
   "outputs": [],
   "source": [
    "#이미지 화면에 출력\n",
    "image = cv2.imread(\"/home/user/바탕화면/python/opencv/voc/000028.jpg\", cv2.IMREAD_UNCHANGED)\n",
    "cv2.imshow(\"cat\",image)\n",
    "cv2.waitKey(0) #키 입력될때까지 계속 화면에 띄움\n",
    "cv2.destroyAllWindows()# 윈도우창 제거 함수"
   ]
  },
  {
   "cell_type": "code",
   "execution_count": 10,
   "metadata": {},
   "outputs": [],
   "source": [
    "image = cv2.imread(\"/home/user/바탕화면/python/opencv/voc/000028.jpg\", cv2.IMREAD_REDUCED_COLOR_8)\n",
    "cv2.imshow(\"cat\",image)\n",
    "cv2.waitKey(3000)\n",
    "cv2.destroyAllWindows()"
   ]
  },
  {
   "cell_type": "code",
   "execution_count": 14,
   "metadata": {},
   "outputs": [
    {
     "name": "stdout",
     "output_type": "stream",
     "text": [
      "500 375 3\n"
     ]
    }
   ],
   "source": [
    "#image shape\n",
    "height, width, channel = image.shape\n",
    "print(height, width , channel)"
   ]
  },
  {
   "cell_type": "code",
   "execution_count": 3,
   "metadata": {},
   "outputs": [],
   "source": [
    "# 대칭\n",
    "src = cv2.imread(\"/home/user/바탕화면/python/opencv/voc/000028.jpg\", cv2.IMREAD_COLOR)\n",
    "dst = cv2.flip(src,0)\n",
    "\n",
    "cv2.imshow(\"src\",src)\n",
    "cv2.imshow(\"dst\",dst)\n",
    "cv2.waitKey(3000)\n",
    "cv2.destroyAllWindows()                           #윈도우창 제목 중복되지 않게 작성\n",
    "\n",
    "\"\"\"\n",
    "dst = cv2.flip(src, flipCode)\n",
    "flipCode < 0은 XY 축 대칭(상하좌우 대칭)\n",
    "flipCode = 0은 X 축 대칭(상하 대칭)\n",
    "flipCode > 0은 Y 축 대칭(좌우 대칭)\n",
    "\"\"\""
   ]
  },
  {
   "cell_type": "code",
   "execution_count": 5,
   "metadata": {},
   "outputs": [],
   "source": [
    "# 회전\n",
    "src = cv2.imread(\"/home/user/바탕화면/python/opencv/voc/000028.jpg\", cv2.IMREAD_COLOR)\n",
    "height, width, channel = src.shape         # 높이와 너비를 이용하여 회전중심점 설정\n",
    "matrix = cv2.getRotationMatrix2D((width/2, height/2), 90, 1)\n",
    "dst = cv2.warpAffine(src, matrix, (width, height))\n",
    "\n",
    "cv2.imshow(\"src\",src)\n",
    "cv2.imshow(\"dst\",dst)\n",
    "cv2.waitKey(3000)\n",
    "cv2.destroyAllWindows()     \n",
    "\n",
    "\"\"\"\n",
    "중심점(tuple), 각도(회전할 각도), 비율(확대 및 축소 비율)로 변환행렬생성\n",
    "matrix = cv2.getRotationMatrix2D(center, angle, scale) \n",
    "\n",
    "회전변환 계산\n",
    "원본이미지에 아핀 맵 행렬 적용하고 출력 이미지 크기로 변형\n",
    "dst = cv2.warpAffine(src, M, dsize)"
   ]
  },
  {
   "cell_type": "code",
   "execution_count": 6,
   "metadata": {},
   "outputs": [],
   "source": [
    "# 이미지 피라미드 (확대/축소)\n",
    "src = cv2.imread(\"/home/user/바탕화면/python/opencv/voc/000028.jpg\", cv2.IMREAD_COLOR)\n",
    "\n",
    "height, width, channel = src.shape\n",
    "dst = cv2.pyrUp(src, dstsize=(width*2, height*2), borderType=cv2.BORDER_DEFAULT)   # 확대\n",
    "dst2 = cv2.pyrDown(src)      #축소\n",
    "\n",
    "cv2.imshow(\"src\", src)\n",
    "cv2.imshow(\"dst\", dst)\n",
    "cv2.imshow(\"dst2\", dst2)\n",
    "cv2.waitKey(3000)\n",
    "cv2.destroyAllWindows()"
   ]
  },
  {
   "cell_type": "code",
   "execution_count": 7,
   "metadata": {},
   "outputs": [],
   "source": [
    "# 크기 조절\n",
    "src = cv2.imread(\"/home/user/바탕화면/python/opencv/voc/000028.jpg\", cv2.IMREAD_COLOR)\n",
    "dst = cv2.resize(src, dsize=(640, 480), interpolation=cv2.INTER_AREA)\n",
    "dst2 = cv2.resize(src, dsize=(0, 0), fx=0.3, fy=0.7, interpolation=cv2.INTER_LINEAR)\n",
    "\n",
    "cv2.imshow(\"src\", src)\n",
    "cv2.imshow(\"dst\", dst)\n",
    "cv2.imshow(\"dst2\", dst2)\n",
    "cv2.waitKey(3000)\n",
    "cv2.destroyAllWindows()\n",
    "\n",
    "\"\"\"\n",
    "cv2.resize(원본 이미지, dsize=(0, 0), 가로비, 세로비, 보간법)로 이미지의 크기를 조절\n",
    "결과 이미지 크기가 (0, 0)으로 크기를 설정하지 않은 경우, fx와 fy를 이용하여 이미지의 비율을 조절할 수 있음\n",
    "fx가 0.3인 경우, 원본 이미지 너비의 0.3배로 변경\n",
    "fy가 0.7인 경우, 원본 이미지 높이의 0.7배로 변경\n",
    "Tip : 결과 이미지 크기와 가로비, 세로비가 모두 설정된 경우, 결과 이미지 크기의 값으로 이미지의 크기가 조절됨\n",
    "\n",
    "\n",
    "cv2.INTER_NEAREST\t이웃 보간법\n",
    "cv2.INTER_LINEAR\t쌍 선형 보간법\n",
    "cv2.INTER_LINEAR_EXACT\t비트 쌍 선형 보간법\n",
    "cv2.INTER_CUBIC\t바이큐빅 보간법\n",
    "cv2.INTER_AREA\t영역 보간법\n",
    "cv2.INTER_LANCZOS4\tLanczos 보간법\n",
    "기본적으로 linear 많이 사용\n",
    "이미지를 확대하는 경우 cubic, linear\n",
    "이미지를 축소하는 경우 area\n",
    "inter area 에서 이미지를 확대하는 경우 nearest와 비슷한 결과 반환\n",
    "\"\"\"\n"
   ]
  },
  {
   "cell_type": "code",
   "execution_count": 15,
   "metadata": {},
   "outputs": [],
   "source": [
    "# 자르기1\n",
    "src = cv2.imread(\"/home/user/바탕화면/python/opencv/voc/000028.jpg\", cv2.IMREAD_COLOR)\n",
    "dst = src.copy()      #이미지는 numpy형식과 동일 dst=src로 복사할 경우 원본에 영향을 미침\n",
    "dst = src[100:500, 200:375]     #잘라낼 영역 설정\n",
    "\n",
    "cv2.imshow(\"src\",src)\n",
    "cv2.imshow(\"dst\", dst)\n",
    "cv2.waitKey(3000)\n",
    "cv2.destroyAllWindows()"
   ]
  },
  {
   "cell_type": "code",
   "execution_count": 19,
   "metadata": {
    "collapsed": true
   },
   "outputs": [
    {
     "ename": "ValueError",
     "evalue": "could not broadcast input array from shape (300,250,3) into shape (200,150,3)",
     "output_type": "error",
     "traceback": [
      "\u001b[0;31m---------------------------------------------------------------------------\u001b[0m",
      "\u001b[0;31mValueError\u001b[0m                                Traceback (most recent call last)",
      "\u001b[0;32m<ipython-input-19-6fd47a2b51ab>\u001b[0m in \u001b[0;36m<module>\u001b[0;34m\u001b[0m\n\u001b[1;32m      4\u001b[0m \u001b[0mdst\u001b[0m \u001b[0;34m=\u001b[0m \u001b[0msrc\u001b[0m\u001b[0;34m.\u001b[0m\u001b[0mcopy\u001b[0m\u001b[0;34m(\u001b[0m\u001b[0;34m)\u001b[0m\u001b[0;34m\u001b[0m\u001b[0;34m\u001b[0m\u001b[0m\n\u001b[1;32m      5\u001b[0m \u001b[0mroi\u001b[0m \u001b[0;34m=\u001b[0m \u001b[0msrc\u001b[0m\u001b[0;34m[\u001b[0m\u001b[0;36m100\u001b[0m\u001b[0;34m:\u001b[0m\u001b[0;36m400\u001b[0m\u001b[0;34m,\u001b[0m \u001b[0;36m100\u001b[0m\u001b[0;34m:\u001b[0m\u001b[0;36m350\u001b[0m\u001b[0;34m]\u001b[0m\u001b[0;34m\u001b[0m\u001b[0;34m\u001b[0m\u001b[0m\n\u001b[0;32m----> 6\u001b[0;31m \u001b[0mdst\u001b[0m\u001b[0;34m[\u001b[0m\u001b[0;34m:\u001b[0m\u001b[0;36m200\u001b[0m\u001b[0;34m,\u001b[0m \u001b[0;34m:\u001b[0m\u001b[0;36m150\u001b[0m\u001b[0;34m]\u001b[0m \u001b[0;34m=\u001b[0m \u001b[0mroi\u001b[0m\u001b[0;34m\u001b[0m\u001b[0;34m\u001b[0m\u001b[0m\n\u001b[0m\u001b[1;32m      7\u001b[0m \u001b[0;34m\u001b[0m\u001b[0m\n\u001b[1;32m      8\u001b[0m \u001b[0mcv2\u001b[0m\u001b[0;34m.\u001b[0m\u001b[0mimshow\u001b[0m\u001b[0;34m(\u001b[0m\u001b[0;34m\"src\"\u001b[0m\u001b[0;34m,\u001b[0m \u001b[0msrc\u001b[0m\u001b[0;34m)\u001b[0m\u001b[0;34m\u001b[0m\u001b[0;34m\u001b[0m\u001b[0m\n",
      "\u001b[0;31mValueError\u001b[0m: could not broadcast input array from shape (300,250,3) into shape (200,150,3)"
     ]
    }
   ],
   "source": [
    "# 자르기2\n",
    "src = cv2.imread(\"/home/user/바탕화면/python/opencv/voc/000028.jpg\", cv2.IMREAD_COLOR)\n",
    "\n",
    "dst = src.copy() \n",
    "roi = src[100:400, 100:350]\n",
    "dst[:200, :150] = roi\n",
    "\n",
    "cv2.imshow(\"src\", src)\n",
    "cv2.imshow(\"dst\", dst)\n",
    "cv2.waitKey(3000)\n",
    "cv2.destroyAllWindows()\n",
    "\n",
    "\"\"\"\n",
    "dst[높이(행), 너비(열)] = roi를 이용하여 dst 이미지에 해당 영역을 붙여넣을 수 있음\n",
    "\"\"\""
   ]
  },
  {
   "cell_type": "code",
   "execution_count": 2,
   "metadata": {},
   "outputs": [],
   "source": [
    "# grayscale : 영상이나 이미지의 색상을 흑백 색상으로 변환하기 위해서 사용\n",
    "\n",
    "src = cv2.imread(\"/home/user/바탕화면/python/opencv/voc/000028.jpg\", cv2.IMREAD_COLOR)\n",
    "\n",
    "dst = cv2.cvtColor(src, cv2.COLOR_BGR2GRAY)\n",
    "\n",
    "cv2.imshow(\"src\", src)\n",
    "cv2.imshow(\"dst\", dst)\n",
    "cv2.waitKey(5000)\n",
    "cv2.destroyAllWindows()"
   ]
  },
  {
   "cell_type": "code",
   "execution_count": 6,
   "metadata": {},
   "outputs": [],
   "source": [
    "# reverse image : 영상이나 이미지를 반전된 색상으로 변환하기 위해서 사용\n",
    "src = cv2.imread(\"/home/user/바탕화면/python/opencv/voc/000028.jpg\", cv2.IMREAD_COLOR)\n",
    "dst = cv2.bitwise_not(src)    #not, and, or, xor\n",
    "\n",
    "cv2.imshow(\"src\", src)\n",
    "cv2.imshow(\"dst\", dst)\n",
    "cv2.waitKey(5000)\n",
    "cv2.destroyAllWindows()"
   ]
  },
  {
   "cell_type": "code",
   "execution_count": 7,
   "metadata": {},
   "outputs": [],
   "source": [
    "# 이진화 : 영상이나 이미지를 어느 지점을 기준으로 흑색 또는 흰색의 색상으로 변환\n",
    "src = cv2.imread(\"/home/user/바탕화면/python/opencv/voc/000028.jpg\", cv2.IMREAD_COLOR)\n",
    "\n",
    "gray = cv2.cvtColor(src, cv2.COLOR_BGR2GRAY)\n",
    "ret, dst = cv2.threshold(gray,100,255,cv2.THRESH_BINARY)\n",
    "# cv2.threshold(그레스케일 이미지, 임계값, 최댓값, 임계값 종류)\n",
    "\n",
    "cv2.imshow(\"dst\", dst)\n",
    "cv2.waitKey(5000)\n",
    "cv2.destroyAllWindows()"
   ]
  },
  {
   "cell_type": "code",
   "execution_count": 8,
   "metadata": {},
   "outputs": [],
   "source": [
    "#blur : 해당 픽셀의 주변값들과 비교하고 계산하여 픽셀들의 색상 값을 재조정\n",
    "src = cv2.imread(\"/home/user/바탕화면/python/opencv/voc/000028.jpg\", cv2.IMREAD_COLOR)\n",
    "\n",
    "dst = cv2.blur(src,(9,9), anchor=(-1,-1), borderType=cv2.BORDER_DEFAULT)\n",
    "\n",
    "cv2.imshow(\"dst\", dst)\n",
    "cv2.waitKey(5000)\n",
    "cv2.destroyAllWindows()\n",
    "\n",
    "\n",
    "\"\"\"\n",
    "cv2.blur(원본 이미지, (커널 x크기, 커널 y크기), 앵커 포인트, 픽셀 외삽법)\n",
    "커널크기 : 이미지에 흐림효과를 적용할 크기 설정 \n",
    "앵커포인트 : 커널의 중심점 (-1,-1)의 경우 자동적으로 커널의 중심점으로 할당\n",
    "\"\"\""
   ]
  },
  {
   "cell_type": "code",
   "execution_count": 10,
   "metadata": {},
   "outputs": [],
   "source": [
    "# 가장자리검출\n",
    "src = cv2.imread(\"/home/user/바탕화면/python/opencv/voc/000028.jpg\", cv2.IMREAD_COLOR)\n",
    "gray = cv2.cvtColor(src,cv2.COLOR_BGR2GRAY)\n",
    "\n",
    "canny = cv2.Canny(src, 100, 255)\n",
    "sobel = cv2.Sobel(gray, cv2.CV_8U, 1,0,3)\n",
    "laplacian = cv2.Laplacian(gray,cv2.CV_8U, ksize=3)\n",
    "\n",
    "cv2.imshow(\"canny\", canny)\n",
    "cv2.imshow(\"sobel\", sobel)\n",
    "cv2.imshow(\"laplacian\", laplacian)\n",
    "cv2.waitKey(5000)\n",
    "cv2.destroyAllWindows()\n",
    "\n",
    "\"\"\"\n",
    "cv2.Canny(원본 이미지, 임계값1, 임계값2, 커널 크기, L2그라디언트)\n",
    "cv2.Sobel(그레이스케일 이미지, 정밀도, x방향 미분, y방향 미분, 커널, 배율, 델타, 픽셀 외삽법)\n",
    "cv2.Laplacian(그레이스케일 이미지, 정밀도, 커널, 배율, 델타, 픽셀 외삽법)\n",
    "\"\"\""
   ]
  },
  {
   "cell_type": "code",
   "execution_count": 11,
   "metadata": {},
   "outputs": [],
   "source": [
    "# HSV(Hue, Saturation, Value) : 영상이나 이미지 색상, 채도, 명도 검출\n",
    "src = cv2.imread(\"/home/user/바탕화면/python/opencv/voc/000028.jpg\", cv2.IMREAD_COLOR)\n",
    "hsv = cv2.cvtColor(src, cv2.COLOR_BGR2HSV)\n",
    "h,s,v = cv2.split(hsv)    # 채널분리 -> 분리된 채널은 단일 채널이므로 흑백으로 표현됨\n",
    "\n",
    "cv2.imshow(\"h\",h)\n",
    "cv2.imshow(\"s\",s)\n",
    "cv2.imshow(\"v\",v)\n",
    "cv2.waitKey(5000)\n",
    "cv2.destroyAllWindows()\n",
    "\n",
    "\"\"\"\n",
    "h = cv2.inRange(h, 8, 20)\n",
    "orange = cv2.bitwise_and(hsv, hsv, mask = h)\n",
    "orange = cv2.cvtColor(orange, cv2.COLOR_HSV2BGR)\n",
    "\n",
    "hue의 범위를 조정하여 특정 색상만 출력할 수 있음\n",
    "cv2.inRange(단일 채널 이미지, 최솟값, 최댓값)\n",
    "cv2.bitwise_and(원본, 원본, mask = 단일 채널 이미지)를 이용하여 마스크만 덧씌움\n",
    "\n",
    "\n",
    "색상 (Hue) : 0 ~ 180\n",
    "채도 (Saturation) : 0 ~ 255\n",
    "명도 (Value) : 0 ~ 255\n",
    "\"\"\""
   ]
  },
  {
   "cell_type": "code",
   "execution_count": 12,
   "metadata": {},
   "outputs": [],
   "source": [
    "# 채널 범위 병합(addWeighted)\n",
    "src = cv2.imread(\"/home/user/바탕화면/python/opencv/voc/001098.jpg\", cv2.IMREAD_COLOR)\n",
    "hsv = cv2.cvtColor(src, cv2.COLOR_BGR2HSV)\n",
    "h, s, v = cv2.split(hsv)\n",
    "\n",
    "lower_red = cv2.inRange(hsv, (0, 100, 100), (5, 255, 255))\n",
    "upper_red = cv2.inRange(hsv, (170, 100, 100), (180, 255, 255))\n",
    "added_red = cv2.addWeighted(lower_red, 1.0, upper_red, 1.0, 0.0)\n",
    "\n",
    "red = cv2.bitwise_and(hsv, hsv, mask = added_red)\n",
    "red = cv2.cvtColor(red, cv2.COLOR_HSV2BGR)\n",
    "\n",
    "cv2.imshow(\"red\", red)\n",
    "cv2.waitKey(5000)\n",
    "cv2.destroyAllWindows()"
   ]
  },
  {
   "cell_type": "code",
   "execution_count": 13,
   "metadata": {},
   "outputs": [],
   "source": [
    "# 채널 분리(Split) 및 병합(Merge)\n",
    "src = cv2.imread(\"/home/user/바탕화면/python/opencv/voc/001098.jpg\", cv2.IMREAD_COLOR)\n",
    "b, g, r = cv2.split(src)\n",
    "inversebgr = cv2.merge((r, g, b))\n",
    "\n",
    "cv2.imshow(\"b\", b)\n",
    "cv2.imshow(\"g\", g)\n",
    "cv2.imshow(\"r\", r)\n",
    "cv2.imshow(\"inverse\", inversebgr)\n",
    "cv2.waitKey(5000)\n",
    "cv2.destroyAllWindows()\n",
    "\n",
    "\"\"\"\n",
    "np형식 채널 분리\n",
    "b = src[:,:,0]\n",
    "g = src[:,:,1]\n",
    "r = src[:,:,2]\n",
    ">> 높이와 너비는 그대로 반환\n",
    "\n",
    "빈 이미지\n",
    "height, width, channel = src.shape\n",
    "zero = np.zeros((height, width, 1), dtype = np.uint8)    #np.zeros((높이, 너비, 채널), dtype=정밀도)\n",
    "bgz = cv2.merge((b, g, zero))\n",
    "\"\"\""
   ]
  },
  {
   "cell_type": "code",
   "execution_count": 14,
   "metadata": {},
   "outputs": [],
   "source": [
    "# 그래픽 드로잉(Drawing)\n",
    "src = np.zeros((768, 1366, 3), dtype = np.uint8)\n",
    "\n",
    "cv2.line(src, (100, 100), (1200, 100), (0, 0, 255), 3, cv2.LINE_AA)\n",
    "cv2.circle(src, (300, 300), 50, (0, 255, 0), cv2.FILLED, cv2.LINE_4)\n",
    "cv2.rectangle(src, (500, 200), (1000, 400), (255, 0, 0), 5, cv2.LINE_8)\n",
    "cv2.ellipse(src, (1200, 300), (100, 50), 0, 90, 180, (255, 255, 0), 2)\n",
    "\n",
    "pts1 = np.array([[100, 500], [300, 500], [200, 600]])\n",
    "pts2 = np.array([[600, 500], [800, 500], [700, 600]])\n",
    "cv2.polylines(src, [pts1], True, (0, 255, 255), 2)\n",
    "cv2.fillPoly(src, [pts2], (255, 0, 255), cv2.LINE_AA)\n",
    "\n",
    "cv2.putText(src, \"YUNDAEHEE\", (900, 600), cv2.FONT_HERSHEY_COMPLEX, 2, (255, 255, 255), 3)\n",
    "\n",
    "cv2.imshow(\"src\", src)\n",
    "cv2.waitKey(5000)\n",
    "cv2.destroyAllWindows()"
   ]
  },
  {
   "cell_type": "code",
   "execution_count": 15,
   "metadata": {},
   "outputs": [],
   "source": [
    "# 기하학적 변환(Warp Perspective) : 영상, 이미지를 펼치거나 좁힘\n",
    "# WarpPerspective의 경우 4개의 점을 매핑 (4개의 점을 이용한 변환)\n",
    "# WarpAffine의 경우 3개의 점을 매핑 (3개의 점을 이용한 변환)\n",
    "\n",
    "src = cv2.imread(\"/home/user/바탕화면/python/opencv/voc/001098.jpg\", cv2.IMREAD_COLOR)\n",
    "height, width, channel = src.shape\n",
    "\n",
    "srcPoint=np.array([[300, 200], [400, 200], [500, 500], [200, 500]], dtype=np.float32)\n",
    "dstPoint=np.array([[0, 0], [width, 0], [width, height], [0, height]], dtype=np.float32)\n",
    "matrix = cv2.getPerspectiveTransform(srcPoint, dstPoint)\n",
    "\n",
    "dst = cv2.warpPerspective(src, matrix, (width, height))\n",
    "\n",
    "cv2.imshow(\"dst\", dst)\n",
    "cv2.waitKey(5000)\n",
    "cv2.destroyAllWindows()"
   ]
  },
  {
   "cell_type": "code",
   "execution_count": 2,
   "metadata": {
    "collapsed": true
   },
   "outputs": [
    {
     "name": "stdout",
     "output_type": "stream",
     "text": [
      "0 [ 1 -1 -1 -1]\n",
      "1 [ 2  0 -1 -1]\n",
      "2 [ 3  1 -1 -1]\n",
      "3 [ 4  2 -1 -1]\n",
      "4 [ 5  3 -1 -1]\n",
      "5 [ 6  4 -1 -1]\n",
      "6 [ 7  5 -1 -1]\n",
      "7 [ 8  6 -1 -1]\n",
      "8 [ 9  7 -1 -1]\n",
      "9 [10  8 -1 -1]\n",
      "10 [11  9 -1 -1]\n",
      "11 [12 10 -1 -1]\n",
      "12 [13 11 -1 -1]\n",
      "13 [14 12 -1 -1]\n",
      "14 [15 13 -1 -1]\n",
      "15 [16 14 -1 -1]\n",
      "16 [17 15 -1 -1]\n",
      "17 [18 16 -1 -1]\n",
      "18 [19 17 -1 -1]\n",
      "19 [20 18 -1 -1]\n",
      "20 [21 19 -1 -1]\n",
      "21 [22 20 -1 -1]\n",
      "22 [23 21 -1 -1]\n",
      "23 [24 22 -1 -1]\n",
      "24 [25 23 -1 -1]\n",
      "25 [26 24 -1 -1]\n",
      "26 [27 25 -1 -1]\n",
      "27 [28 26 -1 -1]\n",
      "28 [29 27 -1 -1]\n",
      "29 [30 28 -1 -1]\n",
      "30 [31 29 -1 -1]\n",
      "31 [32 30 -1 -1]\n",
      "32 [33 31 -1 -1]\n",
      "33 [34 32 -1 -1]\n",
      "34 [35 33 -1 -1]\n",
      "35 [36 34 -1 -1]\n",
      "36 [37 35 -1 -1]\n"
     ]
    },
    {
     "ename": "KeyboardInterrupt",
     "evalue": "",
     "output_type": "error",
     "traceback": [
      "\u001b[0;31m---------------------------------------------------------------------------\u001b[0m",
      "\u001b[0;31mKeyboardInterrupt\u001b[0m                         Traceback (most recent call last)",
      "\u001b[0;32m<ipython-input-2-95aebb4c569f>\u001b[0m in \u001b[0;36m<module>\u001b[0;34m\u001b[0m\n\u001b[1;32m     12\u001b[0m     \u001b[0mprint\u001b[0m\u001b[0;34m(\u001b[0m\u001b[0mi\u001b[0m\u001b[0;34m,\u001b[0m \u001b[0mhierarchy\u001b[0m\u001b[0;34m[\u001b[0m\u001b[0;36m0\u001b[0m\u001b[0;34m]\u001b[0m\u001b[0;34m[\u001b[0m\u001b[0mi\u001b[0m\u001b[0;34m]\u001b[0m\u001b[0;34m)\u001b[0m\u001b[0;34m\u001b[0m\u001b[0;34m\u001b[0m\u001b[0m\n\u001b[1;32m     13\u001b[0m     \u001b[0mcv2\u001b[0m\u001b[0;34m.\u001b[0m\u001b[0mimshow\u001b[0m\u001b[0;34m(\u001b[0m\u001b[0;34m\"src\"\u001b[0m\u001b[0;34m,\u001b[0m \u001b[0msrc\u001b[0m\u001b[0;34m)\u001b[0m\u001b[0;34m\u001b[0m\u001b[0;34m\u001b[0m\u001b[0m\n\u001b[0;32m---> 14\u001b[0;31m     \u001b[0mcv2\u001b[0m\u001b[0;34m.\u001b[0m\u001b[0mwaitKey\u001b[0m\u001b[0;34m(\u001b[0m\u001b[0;36m5000\u001b[0m\u001b[0;34m)\u001b[0m\u001b[0;34m\u001b[0m\u001b[0;34m\u001b[0m\u001b[0m\n\u001b[0m\u001b[1;32m     15\u001b[0m \u001b[0;34m\u001b[0m\u001b[0m\n\u001b[1;32m     16\u001b[0m \u001b[0mcv2\u001b[0m\u001b[0;34m.\u001b[0m\u001b[0mdestroyAllWindows\u001b[0m\u001b[0;34m(\u001b[0m\u001b[0;34m)\u001b[0m\u001b[0;34m\u001b[0m\u001b[0;34m\u001b[0m\u001b[0m\n",
      "\u001b[0;31mKeyboardInterrupt\u001b[0m: "
     ]
    }
   ],
   "source": [
    "# 윤곽선(contour)\n",
    "src = cv2.imread(\"/home/user/바탕화면/python/opencv/voc/001098.jpg\", cv2.IMREAD_COLOR)\n",
    "gray = cv2.cvtColor(src, cv2.COLOR_RGB2GRAY)\n",
    "ret, binary = cv2.threshold(gray, 127, 255, cv2.THRESH_BINARY)\n",
    "binary = cv2.bitwise_not(binary)\n",
    "\n",
    "contours, hierarchy = cv2.findContours(binary, cv2.RETR_CCOMP, cv2.CHAIN_APPROX_NONE)\n",
    "\n",
    "for i in range(len(contours)):\n",
    "    cv2.drawContours(src, [contours[i]], 0, (0, 0, 255), 2)\n",
    "    cv2.putText(src, str(i), tuple(contours[i][0][0]), cv2.FONT_HERSHEY_COMPLEX, 0.8, (0, 255, 0), 1)\n",
    "    print(i, hierarchy[0][i])\n",
    "    cv2.imshow(\"src\", src)\n",
    "    cv2.waitKey(0)\n",
    "\n",
    "cv2.destroyAllWindows()"
   ]
  },
  {
   "cell_type": "code",
   "execution_count": 3,
   "metadata": {},
   "outputs": [],
   "source": [
    "# 다각형 근사(Approx Poly) : 윤곽점을 압축하여 다각형으로 근사하기 위해 사용됨\n",
    "src = cv2.imread(\"/home/user/바탕화면/python/opencv/voc/001098.jpg\", cv2.IMREAD_COLOR)\n",
    "\n",
    "gray = cv2.cvtColor(src, cv2.COLOR_RGB2GRAY)\n",
    "ret, binary = cv2.threshold(gray, 0, 255, cv2.THRESH_OTSU)\n",
    "binary = cv2.bitwise_not(binary)\n",
    "\n",
    "contours, hierarchy = cv2.findContours(binary, cv2.RETR_LIST, cv2.CHAIN_APPROX_TC89_KCOS)\n",
    "\n",
    "for contour in contours:\n",
    "    epsilon = cv2.arcLength(contour, True) * 0.02\n",
    "    approx_poly = cv2.approxPolyDP(contour, epsilon, True)\n",
    "\n",
    "    for approx in approx_poly:\n",
    "        cv2.circle(src, tuple(approx[0]), 3, (255, 0, 0), -1)\n",
    "\n",
    "cv2.imshow(\"src\", src)\n",
    "cv2.waitKey(5000)\n",
    "cv2.destroyAllWindows()"
   ]
  },
  {
   "cell_type": "code",
   "execution_count": 4,
   "metadata": {},
   "outputs": [
    {
     "name": "stderr",
     "output_type": "stream",
     "text": [
      "<ipython-input-4-9e37e6bd5b22>:9: DeprecationWarning: an integer is required (got type numpy.float32).  Implicit conversion to integers using __int__ is deprecated, and may be removed in a future version of Python.\n",
      "  cv2.circle(dst, tuple(i[0]), 3, (0, 0, 255), 2)\n"
     ]
    }
   ],
   "source": [
    "# 코너 검출(Good Features To Track)\n",
    "src = cv2.imread(\"/home/user/바탕화면/python/opencv/voc/001098.jpg\", cv2.IMREAD_COLOR)\n",
    "dst = src.copy()\n",
    "\n",
    "gray = cv2.cvtColor(src, cv2.COLOR_RGB2GRAY)\n",
    "corners = cv2.goodFeaturesToTrack(gray, 100, 0.01, 5, blockSize=3, useHarrisDetector=True, k=0.03)\n",
    "\n",
    "for i in corners:\n",
    "    cv2.circle(dst, tuple(i[0]), 3, (0, 0, 255), 2)\n",
    "\n",
    "cv2.imshow(\"dst\", dst)\n",
    "cv2.waitKey(5000)\n",
    "cv2.destroyAllWindows()"
   ]
  },
  {
   "cell_type": "code",
   "execution_count": 6,
   "metadata": {},
   "outputs": [],
   "source": [
    "# 블록 껍질(Convex Hull) : 윤곽선의 경계면을 둘러싸는 다각형을 구함\n",
    "src = cv2.imread(\"/home/user/바탕화면/python/opencv/voc/1.png\", cv2.IMREAD_COLOR)\n",
    "\n",
    "dst = src.copy()\n",
    "\n",
    "gray = cv2.cvtColor(src, cv2.COLOR_RGB2GRAY)\n",
    "ret, binary = cv2.threshold(gray, 150, 255, cv2.THRESH_BINARY_INV)\n",
    "\n",
    "contours, hierarchy = cv2.findContours(binary, cv2.RETR_CCOMP, cv2.CHAIN_APPROX_NONE)\n",
    "\n",
    "for i in contours:\n",
    "    hull = cv2.convexHull(i, clockwise=True)\n",
    "    cv2.drawContours(dst, [hull], 0, (0, 0, 255), 2)\n",
    "\n",
    "cv2.imshow(\"dst\", dst)\n",
    "cv2.waitKey(5000)\n",
    "cv2.destroyAllWindows()"
   ]
  },
  {
   "cell_type": "code",
   "execution_count": 7,
   "metadata": {},
   "outputs": [],
   "source": [
    "# 모멘트 : 윤곽선이나 이미지의 0차모멘트부터 3차모멘트까지 계산\n",
    "# 공간, 중심, 정규환된 중심, 질량 등\n",
    "src = cv2.imread(\"/home/user/바탕화면/python/opencv/voc/1.png\", cv2.IMREAD_COLOR)\n",
    "\n",
    "dst = src.copy()\n",
    "\n",
    "gray = cv2.cvtColor(src, cv2.COLOR_RGB2GRAY)\n",
    "ret, binary = cv2.threshold(gray, 150, 255, cv2.THRESH_BINARY_INV)\n",
    "\n",
    "contours, hierarchy = cv2.findContours(binary, cv2.RETR_CCOMP, cv2.CHAIN_APPROX_NONE)\n",
    "\n",
    "for i in contours:\n",
    "    M = cv2.moments(i)\n",
    "    cX = int(M['m10'] / M['m00'])\n",
    "    cY = int(M['m01'] / M['m00'])\n",
    "    \n",
    "    cv2.circle(dst, (cX, cY), 3, (255, 0, 0), -1)\n",
    "    cv2.drawContours(dst, [i], 0, (0, 0, 255), 2)\n",
    "\n",
    "cv2.imshow(\"dst\", dst)\n",
    "cv2.waitKey(5000)\n",
    "cv2.destroyAllWindows()"
   ]
  },
  {
   "cell_type": "code",
   "execution_count": 8,
   "metadata": {},
   "outputs": [
    {
     "name": "stdout",
     "output_type": "stream",
     "text": [
      "85\n",
      "85\n",
      "[85  0 85]\n"
     ]
    }
   ],
   "source": [
    "# 픽셀 접근(Pixel Access)\n",
    "gray = np.linspace(0, 255, num=90000, endpoint=True, retstep=False, dtype=np.uint8).reshape(300, 300, 1)\n",
    "color = np.zeros((300, 300, 3), np.uint8)\n",
    "color[0:150, :, 0] = gray[0:150, :, 0]\n",
    "color[:, 150:300, 2] = gray[:, 150:300, 0]\n",
    "\n",
    "x, y, c = 200, 100, 0\n",
    "access_gray = gray[y, x, c]\n",
    "access_color_blue = color[y, x, c]\n",
    "access_color = color[y, x]\n",
    "\n",
    "print(access_gray)\n",
    "print(access_color_blue)\n",
    "print(access_color)\n",
    "\n",
    "cv2.imshow(\"gray\", gray)\n",
    "cv2.imshow(\"color\", color)\n",
    "cv2.waitKey(0)\n",
    "cv2.destroyAllWindows()\n"
   ]
  }
 ],
 "metadata": {
  "kernelspec": {
   "display_name": "Python 3",
   "language": "python",
   "name": "python3"
  },
  "language_info": {
   "codemirror_mode": {
    "name": "ipython",
    "version": 3
   },
   "file_extension": ".py",
   "mimetype": "text/x-python",
   "name": "python",
   "nbconvert_exporter": "python",
   "pygments_lexer": "ipython3",
   "version": "3.8.5"
  }
 },
 "nbformat": 4,
 "nbformat_minor": 4
}
